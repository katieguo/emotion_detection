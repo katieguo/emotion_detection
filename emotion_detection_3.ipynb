{
  "nbformat": 4,
  "nbformat_minor": 0,
  "metadata": {
    "colab": {
      "name": "Copy of StudentCopy_DoNotEdit_EmotionDetection_section3.ipynb",
      "provenance": [],
      "collapsed_sections": []
    },
    "kernelspec": {
      "name": "python3",
      "display_name": "Python 3"
    },
    "accelerator": "GPU"
  },
  "cells": [
    {
      "cell_type": "markdown",
      "metadata": {
        "id": "TiM6gYg0nhkY"
      },
      "source": [
        "<font color=\"#de3023\"><h1><b>REMINDER MAKE A COPY OF THIS NOTEBOOK, DO NOT EDIT</b></h1></font>"
      ]
    },
    {
      "cell_type": "code",
      "metadata": {
        "id": "Qhr-G_92H2Bc",
        "colab": {
          "base_uri": "https://localhost:8080/"
        },
        "outputId": "a5b9d5e2-3207-4ef4-f9fa-a241aab5f086"
      },
      "source": [
        "#@title Run this to download data and prepare our environment!  { display-mode: \"form\" }\n",
        "\n",
        "import cv2\n",
        "import dlib\n",
        "import pickle\n",
        "import warnings\n",
        "import numpy as np\n",
        "import pandas as pd\n",
        "import seaborn as sns\n",
        "import itertools\n",
        "\n",
        "import urllib.request\n",
        "\n",
        "from sklearn import metrics\n",
        "from scipy.spatial import distance\n",
        "from sklearn.metrics import accuracy_score\n",
        "from matplotlib import pyplot as plt\n",
        "from tqdm import tqdm,tqdm_pandas\n",
        "from sklearn.preprocessing import StandardScaler\n",
        "from sklearn.model_selection import train_test_split\n",
        "\n",
        "import re\n",
        "import keras\n",
        "\n",
        "from keras.models import Sequential\n",
        "from tensorflow.keras.utils import to_categorical\n",
        "from keras.optimizers import Adam\n",
        "from keras.layers import Dense, Dropout, Activation, Flatten\n",
        "from keras.layers import Conv2D, MaxPooling2D, BatchNormalization\n",
        "from keras.losses import categorical_crossentropy\n",
        "from keras.optimizers import Adam, SGD\n",
        "from keras.regularizers import l2\n",
        "from keras.callbacks import EarlyStopping, ModelCheckpoint\n",
        "from keras.models import load_model\n",
        "\n",
        "# grab tools from our tensorflow and keras toolboxes!\n",
        "import tensorflow as tf\n",
        "from keras.models import Sequential\n",
        "from keras.layers import Activation, Dropout, Flatten, Dense\n",
        "from keras import optimizers\n",
        "\n",
        "warnings.filterwarnings(\"ignore\")\n",
        "def model_to_string(model):\n",
        "    import re\n",
        "    stringlist = []\n",
        "    model.summary(print_fn=lambda x: stringlist.append(x))\n",
        "    sms = \"\\n\".join(stringlist)\n",
        "    sms = re.sub('_\\d\\d\\d','', sms)\n",
        "    sms = re.sub('_\\d\\d','', sms)\n",
        "    sms = re.sub('_\\d','', sms)  \n",
        "    return sms\n",
        "\n",
        "###Getting the csv data loaded\n",
        "!wget -O ./ferdata.csv \"https://storage.googleapis.com/inspirit-ai-data-bucket-1/Data/AI%20Scholars/Sessions%206%20-%2010%20(Projects)/Project%20-%20Emotion%20Detection/fer2013_5.csv\"\n",
        "\n",
        "###Getting the Dlib Shape predictor!\n",
        "!wget -O ./shape_predictor_68_face_landmarks.dat \"https://storage.googleapis.com/inspirit-ai-data-bucket-1/Data/AI%20Scholars/Sessions%206%20-%2010%20(Projects)/Project%20-%20Emotion%20Detection/shape_predictor_68_face_landmarks.dat\"\n",
        "\n",
        "###Getting the Xpure loaded\n",
        "!wget -O ./pureX.npy \"https://storage.googleapis.com/inspirit-ai-data-bucket-1/Data/AI%20Scholars/Sessions%206%20-%2010%20(Projects)/Project%20-%20Emotion%20Detection/pureX.npy\"\n",
        "\n",
        "###Getting the Xdata loaded\n",
        "!wget -O ./dataX.npy \"https://storage.googleapis.com/inspirit-ai-data-bucket-1/Data/AI%20Scholars/Sessions%206%20-%2010%20(Projects)/Project%20-%20Emotion%20Detection/dataX_edited.npy\"\n",
        "\n",
        "###Getting the Ydata loaded\n",
        "!wget -O ./dataY.npy \"https://storage.googleapis.com/inspirit-ai-data-bucket-1/Data/AI%20Scholars/Sessions%206%20-%2010%20(Projects)/Project%20-%20Emotion%20Detection/dataY.npy\"\n",
        "\n",
        "print (\"Data Downloaded!\")\n",
        "\n",
        "'''\n",
        "Plots the confusion Matrix and saves it\n",
        "'''\n",
        "def plot_confusion_matrix(y_true,y_predicted):\n",
        "  cm = metrics.confusion_matrix(y_true, y_predicted)\n",
        "  print (\"Plotting the Confusion Matrix\")\n",
        "  labels = list(label_map.values())\n",
        "  df_cm = pd.DataFrame(cm,index = labels,columns = labels)\n",
        "  fig = plt.figure()\n",
        "  res = sns.heatmap(df_cm, annot=True,cmap='Blues', fmt='g')\n",
        "  plt.yticks([0.5,1.5,2.5,3.5,4.5], labels,va='center')\n",
        "  plt.title('Confusion Matrix - TestData')\n",
        "  plt.ylabel('True label')\n",
        "  plt.xlabel('Predicted label')\n",
        " \n",
        "  plt.show()\n",
        "  plt.close()\n",
        "\n",
        "def plot_graphs(history, best):\n",
        "  \n",
        "  plt.figure(figsize=[10,4])\n",
        "  # summarize history for accuracy\n",
        "  plt.subplot(121)\n",
        "  plt.plot(history.history['accuracy'])\n",
        "  plt.plot(history.history['val_accuracy'])\n",
        "  plt.title('model accuracy across training\\n best accuracy of %.02f'%best[1])\n",
        "  plt.ylabel('accuracy')\n",
        "  plt.xlabel('epoch')\n",
        "  plt.legend(['train', 'test'], loc='upper left')\n",
        "  \n",
        "  # summarize history for loss\n",
        "  plt.subplot(122)\n",
        "  plt.plot(history.history['loss'])\n",
        "  plt.plot(history.history['val_loss'])\n",
        "  plt.title('model loss across training\\n best loss of %.02f'%best[0])\n",
        "  plt.ylabel('loss')\n",
        "  plt.xlabel('epoch')\n",
        "  plt.legend(['train', 'test'], loc='upper left')\n",
        "  plt.show()\n",
        "\n",
        "#Integer to Label Mapping\n",
        "label_map = {\"0\":\"ANGRY\",\"1\":\"HAPPY\",\"2\":\"SAD\",\"3\":\"SURPRISE\",\"4\":\"NEUTRAL\"}\n",
        "\n",
        "\n",
        "#Load the 68 face Landmark file\n",
        "predictor = dlib.shape_predictor('./shape_predictor_68_face_landmarks.dat')\n",
        "\"\"\"\n",
        "Returns facial landmarks for the given input image path\n",
        "\"\"\"\n",
        "def get_landmarks(image):\n",
        "  \n",
        "  \n",
        "  #:type image : cv2 object\n",
        "  #:rtype landmarks : list of tuples where each tuple represents \n",
        "  #                  the x and y co-ordinates of facial keypoints\n",
        "  \n",
        "  #Bounding Box co-ordinates around the face(Training data is 48*48(cropped faces))\n",
        "  rects = [dlib.rectangle(left=1, top=1, right=47, bottom=47)]\n",
        "\n",
        "  #Read Image using OpenCV\n",
        "  #image = cv2.imread(image_path)\n",
        "  #Detect the Faces within the image\n",
        "  landmarks = [(p.x, p.y) for p in predictor(image, rects[0]).parts()]\n",
        "  return image,landmarks\n",
        "\n",
        "\"\"\"\n",
        "Display image with its Facial Landmarks\n",
        "\"\"\"\n",
        "def image_landmarks(image,face_landmarks):\n",
        "  \"\"\"\n",
        "  :type image_path : str\n",
        "  :type face_landmarks : list of tuples where each tuple represents \n",
        "                     the x and y co-ordinates of facial keypoints\n",
        "  :rtype : None\n",
        "  \"\"\"\n",
        "  radius = -4\n",
        "  circle_thickness = 1\n",
        "  image_copy = image.copy()\n",
        "  for (x, y) in face_landmarks:\n",
        "    cv2.circle(image_copy, (x, y), circle_thickness, (255,0,0), radius)\n",
        "    \n",
        "  plt.imshow(image_copy, interpolation='nearest')\n",
        "  plt.show()\n",
        "  \n",
        "\"\"\"\n",
        "Computes euclidean distance between 68 Landmark Points for our features\n",
        "e_dist is a list of features that will go into our model.\n",
        "Each feature is a distance between two landmark points, and every pair of points\n",
        "must have a feature.\n",
        "\"\"\"\n",
        "  \n",
        "\n",
        "def landmarks_edist(face_landmarks):\n",
        "  \n",
        "    e_dist = []\n",
        "    for i, j in itertools.combinations(range(68), 2):\n",
        "      e_dist.append(distance.euclidean(face_landmarks[i], face_landmarks[j]))\n",
        "    \n",
        "    return e_dist\n",
        "  \n",
        "def compare_learning(mlp, lm, cnn, vgg): # there's one model missing: MLP from pixels\n",
        "  \n",
        "  # summarize history for accuracy\n",
        "  plt.plot(vgg.history['val_accuracy'],)\n",
        "  plt.plot(cnn.history['val_accuracy'])\n",
        "  plt.plot(mlp.history['val_accuracy'],)\n",
        "  plt.plot(lm.history['val_accuracy'])\n",
        "  plt.ylabel('validitation accuracy')\n",
        "  plt.xlabel('epoch')\n",
        "  plt.legend(['cnn_transfer', 'cnn_scratch', 'mlp_pixels', 'mlp_landmarks'], bbox_to_anchor=[1,1])\n",
        "  plt.xticks(range(0, epochs+1, 5), range(0, epochs+1, 5))\n",
        "  plt.show()\n"
      ],
      "execution_count": null,
      "outputs": [
        {
          "output_type": "stream",
          "text": [
            "--2021-07-01 02:54:05--  https://storage.googleapis.com/inspirit-ai-data-bucket-1/Data/AI%20Scholars/Sessions%206%20-%2010%20(Projects)/Project%20-%20Emotion%20Detection/fer2013_5.csv\n",
            "Resolving storage.googleapis.com (storage.googleapis.com)... 74.125.137.128, 142.251.2.128, 142.250.141.128, ...\n",
            "Connecting to storage.googleapis.com (storage.googleapis.com)|74.125.137.128|:443... connected.\n",
            "HTTP request sent, awaiting response... 200 OK\n",
            "Length: 167738172 (160M) [text/csv]\n",
            "Saving to: ‘./ferdata.csv’\n",
            "\n",
            "./ferdata.csv       100%[===================>] 159.97M   243MB/s    in 0.7s    \n",
            "\n",
            "2021-07-01 02:54:06 (243 MB/s) - ‘./ferdata.csv’ saved [167738172/167738172]\n",
            "\n",
            "--2021-07-01 02:54:06--  https://storage.googleapis.com/inspirit-ai-data-bucket-1/Data/AI%20Scholars/Sessions%206%20-%2010%20(Projects)/Project%20-%20Emotion%20Detection/shape_predictor_68_face_landmarks.dat\n",
            "Resolving storage.googleapis.com (storage.googleapis.com)... 74.125.137.128, 142.251.2.128, 142.250.141.128, ...\n",
            "Connecting to storage.googleapis.com (storage.googleapis.com)|74.125.137.128|:443... connected.\n",
            "HTTP request sent, awaiting response... 200 OK\n",
            "Length: 99693937 (95M) [application/octet-stream]\n",
            "Saving to: ‘./shape_predictor_68_face_landmarks.dat’\n",
            "\n",
            "./shape_predictor_6 100%[===================>]  95.08M   175MB/s    in 0.5s    \n",
            "\n",
            "2021-07-01 02:54:07 (175 MB/s) - ‘./shape_predictor_68_face_landmarks.dat’ saved [99693937/99693937]\n",
            "\n",
            "--2021-07-01 02:54:07--  https://storage.googleapis.com/inspirit-ai-data-bucket-1/Data/AI%20Scholars/Sessions%206%20-%2010%20(Projects)/Project%20-%20Emotion%20Detection/pureX.npy\n",
            "Resolving storage.googleapis.com (storage.googleapis.com)... 74.125.137.128, 142.251.2.128, 142.250.141.128, ...\n",
            "Connecting to storage.googleapis.com (storage.googleapis.com)|74.125.137.128|:443... connected.\n",
            "HTTP request sent, awaiting response... 200 OK\n",
            "Length: 46080128 (44M) [application/octet-stream]\n",
            "Saving to: ‘./pureX.npy’\n",
            "\n",
            "./pureX.npy         100%[===================>]  43.95M   139MB/s    in 0.3s    \n",
            "\n",
            "2021-07-01 02:54:08 (139 MB/s) - ‘./pureX.npy’ saved [46080128/46080128]\n",
            "\n",
            "--2021-07-01 02:54:08--  https://storage.googleapis.com/inspirit-ai-data-bucket-1/Data/AI%20Scholars/Sessions%206%20-%2010%20(Projects)/Project%20-%20Emotion%20Detection/dataX_edited.npy\n",
            "Resolving storage.googleapis.com (storage.googleapis.com)... 142.251.2.128, 142.250.141.128, 2607:f8b0:4023:c0d::80, ...\n",
            "Connecting to storage.googleapis.com (storage.googleapis.com)|142.251.2.128|:443... connected.\n",
            "HTTP request sent, awaiting response... 200 OK\n",
            "Length: 364480128 (348M) [application/octet-stream]\n",
            "Saving to: ‘./dataX.npy’\n",
            "\n",
            "./dataX.npy         100%[===================>] 347.59M   214MB/s    in 1.6s    \n",
            "\n",
            "2021-07-01 02:54:09 (214 MB/s) - ‘./dataX.npy’ saved [364480128/364480128]\n",
            "\n",
            "--2021-07-01 02:54:09--  https://storage.googleapis.com/inspirit-ai-data-bucket-1/Data/AI%20Scholars/Sessions%206%20-%2010%20(Projects)/Project%20-%20Emotion%20Detection/dataY.npy\n",
            "Resolving storage.googleapis.com (storage.googleapis.com)... 142.250.141.128, 74.125.137.128, 142.251.2.128, ...\n",
            "Connecting to storage.googleapis.com (storage.googleapis.com)|142.250.141.128|:443... connected.\n",
            "HTTP request sent, awaiting response... 200 OK\n",
            "Length: 160128 (156K) [application/octet-stream]\n",
            "Saving to: ‘./dataY.npy’\n",
            "\n",
            "./dataY.npy         100%[===================>] 156.38K  --.-KB/s    in 0.001s  \n",
            "\n",
            "2021-07-01 02:54:10 (118 MB/s) - ‘./dataY.npy’ saved [160128/160128]\n",
            "\n",
            "Data Downloaded!\n"
          ],
          "name": "stdout"
        }
      ]
    },
    {
      "cell_type": "code",
      "metadata": {
        "id": "jcpypKzI-ol0",
        "cellView": "form",
        "colab": {
          "base_uri": "https://localhost:8080/"
        },
        "outputId": "697549de-4318-4c38-b02a-1e93adea55aa"
      },
      "source": [
        "#@title If the previous code cell fails to download the data properly, please run this.\n",
        "import cv2\n",
        "import dlib\n",
        "import pickle\n",
        "import warnings\n",
        "import numpy as np\n",
        "import pandas as pd\n",
        "import seaborn as sns\n",
        "import urllib.request\n",
        "from sklearn import metrics\n",
        "from scipy.spatial import distance\n",
        "from matplotlib import pyplot as plt\n",
        "from sklearn.decomposition import PCA\n",
        "from sklearn.preprocessing import StandardScaler\n",
        "from sklearn.linear_model import LogisticRegression\n",
        "from sklearn.tree import DecisionTreeClassifier \n",
        "from sklearn.neighbors import KNeighborsClassifier\n",
        "from sklearn.model_selection import train_test_split\n",
        "import io\n",
        "\n",
        "###Getting the csv data loaded\n",
        "!wget -O ./ferdata.csv \"https://storage.googleapis.com/inspirit-ai-data-bucket-1/Data/AI%20Scholars/Sessions%206%20-%2010%20(Projects)/Project%20-%20Emotion%20Detection/fer2013_5.csv\"\n",
        "\n",
        "###Getting the Dlib Shape predictor!\n",
        "!wget -O ./shape_predictor_68_face_landmarks.dat \"https://storage.googleapis.com/inspirit-ai-data-bucket-1/Data/AI%20Scholars/Sessions%206%20-%2010%20(Projects)/Project%20-%20Emotion%20Detection/shape_predictor_68_face_landmarks.dat\"\n",
        "\n",
        "###Getting the Xpure loaded\n",
        "!wget -O ./pureX.npy \"https://storage.googleapis.com/inspirit-ai-data-bucket-1/Data/AI%20Scholars/Sessions%206%20-%2010%20(Projects)/Project%20-%20Emotion%20Detection/pureX.npy\"\n",
        "\n",
        "###Getting the Xdata loaded\n",
        "!wget -O ./dataX.npy \"https://storage.googleapis.com/inspirit-ai-data-bucket-1/Data/AI%20Scholars/Sessions%206%20-%2010%20(Projects)/Project%20-%20Emotion%20Detection/dataX_edited.npy\"\n",
        "\n",
        "###Getting the Ydata loaded\n",
        "!wget -O ./dataY.npy \"https://storage.googleapis.com/inspirit-ai-data-bucket-1/Data/AI%20Scholars/Sessions%206%20-%2010%20(Projects)/Project%20-%20Emotion%20Detection/dataY.npy\"\n",
        "\n",
        "print (\"Data Downloaded!\")"
      ],
      "execution_count": null,
      "outputs": [
        {
          "output_type": "stream",
          "text": [
            "--2021-07-01 02:54:13--  https://storage.googleapis.com/inspirit-ai-data-bucket-1/Data/AI%20Scholars/Sessions%206%20-%2010%20(Projects)/Project%20-%20Emotion%20Detection/fer2013_5.csv\n",
            "Resolving storage.googleapis.com (storage.googleapis.com)... 74.125.137.128, 142.251.2.128, 142.250.141.128, ...\n",
            "Connecting to storage.googleapis.com (storage.googleapis.com)|74.125.137.128|:443... connected.\n",
            "HTTP request sent, awaiting response... 200 OK\n",
            "Length: 167738172 (160M) [text/csv]\n",
            "Saving to: ‘./ferdata.csv’\n",
            "\n",
            "./ferdata.csv       100%[===================>] 159.97M   238MB/s    in 0.7s    \n",
            "\n",
            "2021-07-01 02:54:13 (238 MB/s) - ‘./ferdata.csv’ saved [167738172/167738172]\n",
            "\n",
            "--2021-07-01 02:54:13--  https://storage.googleapis.com/inspirit-ai-data-bucket-1/Data/AI%20Scholars/Sessions%206%20-%2010%20(Projects)/Project%20-%20Emotion%20Detection/shape_predictor_68_face_landmarks.dat\n",
            "Resolving storage.googleapis.com (storage.googleapis.com)... 142.251.2.128, 142.250.141.128, 2607:f8b0:4023:c0d::80, ...\n",
            "Connecting to storage.googleapis.com (storage.googleapis.com)|142.251.2.128|:443... connected.\n",
            "HTTP request sent, awaiting response... 200 OK\n",
            "Length: 99693937 (95M) [application/octet-stream]\n",
            "Saving to: ‘./shape_predictor_68_face_landmarks.dat’\n",
            "\n",
            "./shape_predictor_6 100%[===================>]  95.08M   251MB/s    in 0.4s    \n",
            "\n",
            "2021-07-01 02:54:14 (251 MB/s) - ‘./shape_predictor_68_face_landmarks.dat’ saved [99693937/99693937]\n",
            "\n",
            "--2021-07-01 02:54:14--  https://storage.googleapis.com/inspirit-ai-data-bucket-1/Data/AI%20Scholars/Sessions%206%20-%2010%20(Projects)/Project%20-%20Emotion%20Detection/pureX.npy\n",
            "Resolving storage.googleapis.com (storage.googleapis.com)... 142.250.141.128, 74.125.137.128, 142.251.2.128, ...\n",
            "Connecting to storage.googleapis.com (storage.googleapis.com)|142.250.141.128|:443... connected.\n",
            "HTTP request sent, awaiting response... 200 OK\n",
            "Length: 46080128 (44M) [application/octet-stream]\n",
            "Saving to: ‘./pureX.npy’\n",
            "\n",
            "./pureX.npy         100%[===================>]  43.95M   275MB/s    in 0.2s    \n",
            "\n",
            "2021-07-01 02:54:14 (275 MB/s) - ‘./pureX.npy’ saved [46080128/46080128]\n",
            "\n",
            "--2021-07-01 02:54:14--  https://storage.googleapis.com/inspirit-ai-data-bucket-1/Data/AI%20Scholars/Sessions%206%20-%2010%20(Projects)/Project%20-%20Emotion%20Detection/dataX_edited.npy\n",
            "Resolving storage.googleapis.com (storage.googleapis.com)... 142.251.2.128, 142.250.141.128, 2607:f8b0:4023:c0d::80, ...\n",
            "Connecting to storage.googleapis.com (storage.googleapis.com)|142.251.2.128|:443... connected.\n",
            "HTTP request sent, awaiting response... 200 OK\n",
            "Length: 364480128 (348M) [application/octet-stream]\n",
            "Saving to: ‘./dataX.npy’\n",
            "\n",
            "./dataX.npy         100%[===================>] 347.59M   156MB/s    in 2.2s    \n",
            "\n",
            "2021-07-01 02:54:17 (156 MB/s) - ‘./dataX.npy’ saved [364480128/364480128]\n",
            "\n",
            "--2021-07-01 02:54:17--  https://storage.googleapis.com/inspirit-ai-data-bucket-1/Data/AI%20Scholars/Sessions%206%20-%2010%20(Projects)/Project%20-%20Emotion%20Detection/dataY.npy\n",
            "Resolving storage.googleapis.com (storage.googleapis.com)... 142.250.141.128, 74.125.137.128, 142.251.2.128, ...\n",
            "Connecting to storage.googleapis.com (storage.googleapis.com)|142.250.141.128|:443... connected.\n",
            "HTTP request sent, awaiting response... 200 OK\n",
            "Length: 160128 (156K) [application/octet-stream]\n",
            "Saving to: ‘./dataY.npy’\n",
            "\n",
            "./dataY.npy         100%[===================>] 156.38K  --.-KB/s    in 0.001s  \n",
            "\n",
            "2021-07-01 02:54:17 (122 MB/s) - ‘./dataY.npy’ saved [160128/160128]\n",
            "\n",
            "Data Downloaded!\n"
          ],
          "name": "stdout"
        }
      ]
    },
    {
      "cell_type": "markdown",
      "metadata": {
        "id": "EIrowe2Atd1W"
      },
      "source": [
        "In this notebook we'll be:\n",
        "1.   Understanding and Building Neural Networks\n",
        "2.   Applying Neural Networks to Predict Emotions\n",
        "3.   Implementing CNNs for Emotion Detection\n",
        "4.   Implementing Transfer Learning\n",
        "\n"
      ]
    },
    {
      "cell_type": "markdown",
      "metadata": {
        "id": "xq10yh_OuVlg"
      },
      "source": [
        "#Understanding and building Neural Networks"
      ]
    },
    {
      "cell_type": "markdown",
      "metadata": {
        "id": "OOfhabJ_4hvE"
      },
      "source": [
        "A neural network is a series of algorithms that endeavors to recognize underlying relationships in a set of data through a process that mimics the way the human brain operates. Basically, neural network algorithm helps computers think and learn like humans.\n",
        "\n",
        "The whole idea of artificial neural network is based on the concept of the structure and functions of a human brain. A human brain consists of neurons that process and transmit information between themselves."
      ]
    },
    {
      "cell_type": "markdown",
      "metadata": {
        "id": "4DcLenvXu7th"
      },
      "source": [
        "### Why try neural networks?"
      ]
    },
    {
      "cell_type": "markdown",
      "metadata": {
        "id": "s77Fm2CbvZi7"
      },
      "source": [
        "Our Baseline model performed at ~50 %\n",
        "\n",
        "Human accuracy for fer2013 is around 65 %, suggesting that we could do better!\n",
        "\n",
        "What we require now is a model that can capture more complicated patterns. One class of models that is able to do this and has been very effective for doing this for images are neural networks. \n",
        "\n",
        "\n",
        "### What are neural networks?\n"
      ]
    },
    {
      "cell_type": "markdown",
      "metadata": {
        "id": "ZB_uPibnv2UG"
      },
      "source": [
        "## Instructor-Led Discussion: Building networks\n",
        "\n",
        "To build neural networks in Python, we use the packages known as `tensorflow` and `keras`. Let's learn how to build and use these networks!\n",
        "\n",
        "Tensorflow calls the various machine learning algorithms that it uses 'models'.  These 'models' are 'learning machines.''\n",
        "\n",
        "1. We **teach** models by **training** them on **data**. \n",
        "2. We **use** models to **predict** things. \n",
        "\n",
        "Here is example code for building a Tensorflow model with Keras:"
      ]
    },
    {
      "cell_type": "markdown",
      "metadata": {
        "id": "RUtJ7_FkkPr-"
      },
      "source": [
        "The things you'll want to pay most attention to as we go over how to build networks are: \n",
        "1. The number of neurons\n",
        "2. The activation of the neurons\n",
        "3. The losses and metrics\n",
        "\n",
        "Everything else will work with the default settings!\n",
        "\n",
        "Let's walk though what each of these lines of code means!\n",
        "\n",
        "**1. Specify model**\n",
        "\n",
        "```\n",
        "model = Sequential()\n",
        "```\n",
        "In this line of code, we build our network where the information flows from LEFT to RIGHT through the network in ONE DIRECTION as opposed to multiple directions. Neurons on the right never pass informations to neurons on the left of it. \n",
        "\n",
        "\n",
        "**2. Add layers to the network**\n",
        "```\n",
        "model.add(Dense(4,input_shape = (3,), activation = 'sigmoid'))\n",
        "```\n",
        "In this code, we `add` a `layer` of neurons to our network. \n",
        "\n",
        "This layers consists of 4 neurons. Each neuron is DENSE and connects to all of the previous layer's inputs and all of the subsequent layers outputs. We specify that there are 3 inputs here.\n",
        "\n",
        "We also specify what kind of output the neuron will give. If you want the neuron to output a number between 0 and 1 (like a probability!) you would use 'softmax' or 'sigmoid'. If you want the neuron to output any number, you can use 'linear'! You'll also often see 'relu', which is when a neuron will only output positive numbers. \n",
        "\n",
        "```\n",
        "model.add(Dense(1, activation = 'linear'))\n",
        "```\n",
        "This code adds ANOTHER layer to the network that has 1 neuron. This one neuron is used to predict a continuous value!\n",
        "\n",
        "**3. Turn the model on by compiling it** \n",
        "\n",
        "After having built the network, we want to train and use it, so we have to 'turn it on' and 'compile' it. To turn it on, we have to specify at the very least, a loss, an optimizer, and some ways of evaluating the model (metrics). Don't worry too much about what this means! Just know that this is necessary. \n",
        "\n",
        "```\n",
        "model.compile(loss='mean_squared_error',\n",
        "               optimizer = 'adam',\n",
        "               metrics = ['mean_squared_error'])\n",
        "  ```\n",
        "  \n",
        "  Once we've created our network, we can use it very simply! Just like we did with sklearn, we define our input data (x), the true predictions from that data (y), and then train our model with `fit`. \n",
        "\n",
        "```\n",
        "model.fit(x, y)\n",
        "```\n",
        "\n",
        "To use the model, you can use it to predict something with:\n",
        "```\n",
        "y = model.predict_classes(x)\n",
        "```\n",
        "\n"
      ]
    },
    {
      "cell_type": "markdown",
      "metadata": {
        "id": "ACtfnujXvzaT"
      },
      "source": [
        "### For reference, this is a lot like the kind of models we've been training with scikit learn.\n",
        "\n",
        "The big difference is that defining the model is more involved. We can look at an example from KNN: \n",
        "\n",
        "```\n",
        "# define the model instance \n",
        "knn = KNeighborsClassifier()\n",
        "\n",
        "# train model with X_train\n",
        "knn.fit(X_train, y_train) \n",
        "\n",
        "# predict testing data\n",
        "y_predict = knn.predict(X_test)\n",
        "\n",
        "```"
      ]
    },
    {
      "cell_type": "markdown",
      "metadata": {
        "id": "YJXxWYXcwoGn"
      },
      "source": [
        "##Exercise: Coding a 2 hidden layer MLP\n",
        "\n",
        "Just as we went over last week, neural networks look something like this: \n",
        "\n",
        "![A 2 layer neural network](https://cdn-images-1.medium.com/max/1600/1*DW0Ccmj1hZ0OvSXi7Kz5MQ.jpeg)\n",
        "\n",
        "Each orange and blue node is a neuron. The network itself is composed of a bunch of neurons that talk to each other and eventually give us a prediction. Let's get a bit more concrete with this..."
      ]
    },
    {
      "cell_type": "markdown",
      "metadata": {
        "id": "2MamYyRf16Ii"
      },
      "source": [
        "### How can we build this network above? Fill in the ___ 's below "
      ]
    },
    {
      "cell_type": "code",
      "metadata": {
        "id": "g1FadMwUkOwV"
      },
      "source": [
        "# First, we initialize our model\n",
        "tmp_model = Sequential()\n",
        "# then we add a \"Dense\" (i.e. fully connected) layer\n",
        "tmp_model.add(Dense(7, input_shape=(5,), activation = 'relu')) # for the first layer we specify the input dimensions \n",
        "# then we have to add another layer \n",
        "tmp_model.add(Dense(7, activation = 'relu'))\n",
        "# we end by defining the output layer, which has the number of dimensions of the predictions we're making\n",
        "tmp_model.add(Dense(4, activation = 'linear'))\n",
        "# we finalize the model by \"compiling\" it and defining some other hyperparameters \n",
        "tmp_model.compile(loss='mean_squared_error', optimizer='adam', metrics=['mean_squared_error'])"
      ],
      "execution_count": null,
      "outputs": []
    },
    {
      "cell_type": "markdown",
      "metadata": {
        "id": "-rrqPkJWVLOY"
      },
      "source": [
        "## Exercise: Building our custom neural network"
      ]
    },
    {
      "cell_type": "markdown",
      "metadata": {
        "id": "25DoFvA0VWnq"
      },
      "source": [
        "###Keypoints"
      ]
    },
    {
      "cell_type": "markdown",
      "metadata": {
        "id": "tchJVYOTVZAh"
      },
      "source": [
        "We will build a simple 3-layer network for our first model!\n",
        "\n",
        "\n",
        "For our model, we have as our layers: \n",
        "* Input Layer:  However many inputs there are!\n",
        "* Layer 1 (Hidden): 1024 neurons that are activated by `'relu'` and weights are intialized using `kernel_initializer='glorot_normal'`. Specify the input shape as `(2278,)`.\n",
        "* Layer 2 (Hidden): 512 neurons that are activated by `'relu'` and weights are intialized using `kernel_initializer='glorot_normal'`\n",
        "* Layer 3 (Output): 5 neuron that should have an appropriate activation. \n",
        "* We will compile with the `optimizers.SGD(lr=0.001)` optimizer\n",
        "\n",
        "As a hint for the output activation and the compilation loss, we know that:\n",
        "* Multi-class classification problems require an output activation of `'softmax'` and a loss of `'categorical_crossentropy'`\n",
        "\n",
        "\n"
      ]
    },
    {
      "cell_type": "markdown",
      "metadata": {
        "id": "sv3U4FxbVyfs"
      },
      "source": [
        "###Build your Model (call it `perceptron`)"
      ]
    },
    {
      "cell_type": "code",
      "metadata": {
        "id": "WJh4klMtV3Q_"
      },
      "source": [
        "#YOUR CODE HERE\n",
        "# First, we initialize our model\n",
        "perceptron = Sequential()\n",
        "# then we add a \"Dense\" (i.e. fully connected) layer\n",
        "perceptron.add(Dense(1024, input_shape=(2278,), activation = 'relu', kernel_initializer='glorot_normal')) # for the first layer we specify the input dimensions \n",
        "# then we have to add another layer \n",
        "perceptron.add(Dense(512, activation = 'relu', kernel_initializer='glorot_normal'))\n",
        "# we end by defining the output layer, which has the number of dimensions of the predictions we're making\n",
        "perceptron.add(Dense(5, activation = 'softmax'))\n",
        "# we finalize the model by \"compiling\" it and defining some other hyperparameters \n",
        "perceptron.compile(loss='categorical_crossentropy', optimizer=optimizers.SGD(lr=0.001), metrics=['mean_squared_error'])\n",
        "#END CODE"
      ],
      "execution_count": null,
      "outputs": []
    },
    {
      "cell_type": "code",
      "metadata": {
        "id": "rWDzNTh9Wm0e",
        "colab": {
          "base_uri": "https://localhost:8080/"
        },
        "outputId": "d8c74282-924f-48a4-b178-e498b9714aaf"
      },
      "source": [
        "#@title Run this to test if your model is right! { display-mode: \"form\" }\n",
        "perceptron_answer = Sequential()\n",
        "perceptron_answer.add(Dense(units = 1024, input_shape = (2278,),kernel_initializer='glorot_normal',activation = 'relu'))\n",
        "perceptron_answer.add(Dense(units = 512,kernel_initializer='glorot_normal' , activation = 'relu'))\n",
        "perceptron_answer.add(Dense(units = 5, activation = 'softmax'))\n",
        "    \n",
        "perceptron_answer.compile(\n",
        "    loss='categorical_crossentropy',\n",
        "    optimizer=SGD(lr=0.001),\n",
        "    metrics=['accuracy'])\n",
        "\n",
        "if model_to_string(perceptron) == model_to_string(perceptron_answer):\n",
        "  print('Good job, you specified it correctly!')\n",
        "else: \n",
        "  print('Please check your code again!')"
      ],
      "execution_count": null,
      "outputs": [
        {
          "output_type": "stream",
          "text": [
            "Good job, you specified it correctly!\n"
          ],
          "name": "stdout"
        }
      ]
    },
    {
      "cell_type": "markdown",
      "metadata": {
        "id": "AgQEGSXJueyV"
      },
      "source": [
        "###Keras Neural Network Model Hyperparameters\n",
        "\n",
        "Neural Network performance depends a lot on *how much* they train. As we'll see, they usually get better with more training BUT actually can get worse with too much training. With too much training, our model can get overconfident in its abilities with the training manual (overfitting), and so doesn't actually think (generalize) when it is tested. \n",
        "\n",
        "The  `fit()` function pertain to how the neural networks train. Don't worry too much about the extra options, what really matters for us is that the right data is specified.\n",
        "\n",
        "\n",
        "What are all these options?\n",
        "* `epochs`: how many times the model trains on the entire data set\n",
        "* `batch_size`: number of samples processed at a time\n",
        "* `shuffle`: mixes the training dataset so the model pays better attention to the data and learns better while training\n",
        "* `validation_data`: we request that our model tests itself on the `test_data` after every epoch. **It is essential to use validation data to test for overfitting!**\n",
        "* `callbacks`: With a custom command, we tell our model to save the best version of itself to a model file called `best_dnn_model.h5`. \n"
      ]
    },
    {
      "cell_type": "markdown",
      "metadata": {
        "id": "oeb1iFnZw3W1"
      },
      "source": [
        "#Applying Neural Networks (MLPs) to predicting emotions"
      ]
    },
    {
      "cell_type": "markdown",
      "metadata": {
        "id": "kGdpkyMmqs-G"
      },
      "source": [
        "### Loading and formatting data for all models in notebook "
      ]
    },
    {
      "cell_type": "markdown",
      "metadata": {
        "id": "pf4GspMjAGoE"
      },
      "source": [
        "First, let's try to build a 4-Layer Neural Network  for our training data to achieve accuracy closer to the human accuracy on the dataset (around 65%)\n",
        "\n",
        "We want to identify the key things that we need to design our network. \n",
        "\n",
        "In your group, discuss: \n",
        "\n",
        "* What are our inputs?\n",
        "* What is/are our outputs?\n",
        "\n",
        "How could this look in a neural network diagram?\n",
        "\n",
        "**Show your instructor your diagram once you're done!!**"
      ]
    },
    {
      "cell_type": "markdown",
      "metadata": {
        "id": "G-hJkIeQthKl"
      },
      "source": [
        "##Activity: Train Neural Network on Emotion Dataset"
      ]
    },
    {
      "cell_type": "markdown",
      "metadata": {
        "id": "LDZqO4EMHeSZ"
      },
      "source": [
        "###Set some hyper parameters for all models"
      ]
    },
    {
      "cell_type": "code",
      "metadata": {
        "id": "284_6dNsHiS5"
      },
      "source": [
        "# the number of times we pass all the training data through the model \n",
        "epochs = 20\n",
        "# the number of examples we pass to the model at each time\n",
        "batch_size = 64\n",
        "# the proportion of testing data we set aside (e.g. 10%)\n",
        "test_ratio = .1\n",
        "# the number of emotion categories we have to predict\n",
        "n_labels = 5 "
      ],
      "execution_count": null,
      "outputs": []
    },
    {
      "cell_type": "markdown",
      "metadata": {
        "id": "gNJx9QCE8w8p"
      },
      "source": [
        "###Load the original (unprocessed) data saved on Day 2!"
      ]
    },
    {
      "cell_type": "code",
      "metadata": {
        "id": "oG7AIjf3xWBa"
      },
      "source": [
        "# load data \n",
        "dataX_pixels = np.load('pureX.npy')\n",
        "dataY_pixels = np.load('dataY.npy')"
      ],
      "execution_count": null,
      "outputs": []
    },
    {
      "cell_type": "markdown",
      "metadata": {
        "id": "7y6HwMAg85jx"
      },
      "source": [
        "### Convert labels to one-hot encoded labels\n",
        "\n",
        "One hot encoding is a representation of categorical variables as binary vectors"
      ]
    },
    {
      "cell_type": "code",
      "metadata": {
        "id": "qA_0acGq9AJN",
        "colab": {
          "base_uri": "https://localhost:8080/"
        },
        "outputId": "84143c94-cc89-4eda-efda-800e5a32b62c"
      },
      "source": [
        "# convert labels to one hot encoding\n",
        "y_onehot = to_categorical(dataY_pixels, len(set(dataY_pixels)))\n",
        "print(y_onehot)\n",
        "print(dataY_pixels[:5])\n",
        "# what does this data type look like? "
      ],
      "execution_count": null,
      "outputs": [
        {
          "output_type": "stream",
          "text": [
            "[[1. 0. 0. 0. 0.]\n",
            " [0. 0. 0. 0. 1.]\n",
            " [0. 0. 0. 0. 1.]\n",
            " ...\n",
            " [1. 0. 0. 0. 0.]\n",
            " [0. 0. 1. 0. 0.]\n",
            " [1. 0. 0. 0. 0.]]\n",
            "[0 4 4 4 4]\n"
          ],
          "name": "stdout"
        }
      ]
    },
    {
      "cell_type": "code",
      "metadata": {
        "id": "a-LTjtaknAqa",
        "cellView": "form"
      },
      "source": [
        "#@title Is it clear how these are two equivalent ways to represent the target?\n"
      ],
      "execution_count": null,
      "outputs": []
    },
    {
      "cell_type": "markdown",
      "metadata": {
        "id": "1RodV9eQ71Yz"
      },
      "source": [
        "###Split and Standardize your Data\n",
        "\n"
      ]
    },
    {
      "cell_type": "code",
      "metadata": {
        "id": "cVO4wnTY7rRk"
      },
      "source": [
        "# split Data into Train, Test (90-10)\n",
        "X_train, X_test, y_train, y_test = train_test_split(dataX_pixels, y_onehot, test_size=test_ratio, random_state=42)\n",
        "\n",
        "#### Standardize the data ##########\n",
        "pixel_scaler = StandardScaler()\n",
        "pixel_scaler.fit(X_train)\n",
        "X_train = pixel_scaler.transform(X_train)\n",
        "X_test = pixel_scaler.transform(X_test)"
      ],
      "execution_count": null,
      "outputs": []
    },
    {
      "cell_type": "markdown",
      "metadata": {
        "id": "iaQQkwNsHGSM"
      },
      "source": [
        "## Exercise: Build a simple MLP for emotion detection (call it `mlp_model`)\n"
      ]
    },
    {
      "cell_type": "code",
      "metadata": {
        "id": "QBk3kFJSgQJ0",
        "cellView": "both"
      },
      "source": [
        "#YOUR CODE HERE\n",
        "\n",
        "mlp_model = Sequential()\n",
        "mlp_model.add(Dense(1024, input_shape=(X_train.shape[1],), activation = 'relu', kernel_initializer='glorot_normal'))\n",
        "mlp_model.add(Dense(512, activation = 'relu'))\n",
        "mlp_model.add(Dropout(0.5))\n",
        "mlp_model.add(Dense(5, activation = 'softmax'))\n",
        "#mlp_model.compile(loss = 'categorical_crossentropy', optimizer = optimizers.SGD(lr=0.001), metric_cells='mean_squared_error')\n",
        "\n",
        "\n",
        "\n",
        "#END CODE"
      ],
      "execution_count": null,
      "outputs": []
    },
    {
      "cell_type": "code",
      "metadata": {
        "id": "IwYofcaXzWVa",
        "colab": {
          "base_uri": "https://localhost:8080/"
        },
        "outputId": "2dbebd65-3a78-44e1-c2d8-7048af698c41"
      },
      "source": [
        "# Compiling the model with SGD optimixer and categorical crossentropy loss\n",
        "mlp_model.compile(loss=categorical_crossentropy, optimizer=SGD(lr=0.001), metrics=['accuracy'])\n",
        "              \n",
        "#Saves the Best Model Based on Val Loss\n",
        "checkpoint = ModelCheckpoint('best_mlp_model.h5', verbose=1, monitor='val_accuracy', save_best_only=True,  mode='auto')  \n",
        "\n",
        "#training the model\n",
        "mlp_history = mlp_model.fit(X_train, y_train, batch_size=batch_size, epochs=epochs, verbose=1, \n",
        "                            callbacks=[checkpoint], validation_data=(X_test, y_test), shuffle=True)"
      ],
      "execution_count": null,
      "outputs": [
        {
          "output_type": "stream",
          "text": [
            "Epoch 1/20\n",
            "282/282 [==============================] - 2s 4ms/step - loss: 1.9209 - accuracy: 0.2300 - val_loss: 1.5444 - val_accuracy: 0.3250\n",
            "\n",
            "Epoch 00001: val_accuracy improved from -inf to 0.32500, saving model to best_mlp_model.h5\n",
            "Epoch 2/20\n",
            "282/282 [==============================] - 1s 3ms/step - loss: 1.6996 - accuracy: 0.2863 - val_loss: 1.4909 - val_accuracy: 0.3550\n",
            "\n",
            "Epoch 00002: val_accuracy improved from 0.32500 to 0.35500, saving model to best_mlp_model.h5\n",
            "Epoch 3/20\n",
            "282/282 [==============================] - 1s 3ms/step - loss: 1.5911 - accuracy: 0.3201 - val_loss: 1.4606 - val_accuracy: 0.3690\n",
            "\n",
            "Epoch 00003: val_accuracy improved from 0.35500 to 0.36900, saving model to best_mlp_model.h5\n",
            "Epoch 4/20\n",
            "282/282 [==============================] - 1s 4ms/step - loss: 1.5487 - accuracy: 0.3366 - val_loss: 1.4396 - val_accuracy: 0.3820\n",
            "\n",
            "Epoch 00004: val_accuracy improved from 0.36900 to 0.38200, saving model to best_mlp_model.h5\n",
            "Epoch 5/20\n",
            "282/282 [==============================] - 1s 4ms/step - loss: 1.4925 - accuracy: 0.3625 - val_loss: 1.4256 - val_accuracy: 0.3910\n",
            "\n",
            "Epoch 00005: val_accuracy improved from 0.38200 to 0.39100, saving model to best_mlp_model.h5\n",
            "Epoch 6/20\n",
            "282/282 [==============================] - 1s 4ms/step - loss: 1.4648 - accuracy: 0.3767 - val_loss: 1.4146 - val_accuracy: 0.3970\n",
            "\n",
            "Epoch 00006: val_accuracy improved from 0.39100 to 0.39700, saving model to best_mlp_model.h5\n",
            "Epoch 7/20\n",
            "282/282 [==============================] - 1s 4ms/step - loss: 1.4465 - accuracy: 0.3911 - val_loss: 1.4040 - val_accuracy: 0.4055\n",
            "\n",
            "Epoch 00007: val_accuracy improved from 0.39700 to 0.40550, saving model to best_mlp_model.h5\n",
            "Epoch 8/20\n",
            "282/282 [==============================] - 1s 3ms/step - loss: 1.4327 - accuracy: 0.3999 - val_loss: 1.3975 - val_accuracy: 0.4140\n",
            "\n",
            "Epoch 00008: val_accuracy improved from 0.40550 to 0.41400, saving model to best_mlp_model.h5\n",
            "Epoch 9/20\n",
            "282/282 [==============================] - 1s 3ms/step - loss: 1.3978 - accuracy: 0.4070 - val_loss: 1.3909 - val_accuracy: 0.4200\n",
            "\n",
            "Epoch 00009: val_accuracy improved from 0.41400 to 0.42000, saving model to best_mlp_model.h5\n",
            "Epoch 10/20\n",
            "282/282 [==============================] - 1s 4ms/step - loss: 1.3918 - accuracy: 0.4055 - val_loss: 1.3830 - val_accuracy: 0.4210\n",
            "\n",
            "Epoch 00010: val_accuracy improved from 0.42000 to 0.42100, saving model to best_mlp_model.h5\n",
            "Epoch 11/20\n",
            "282/282 [==============================] - 1s 3ms/step - loss: 1.3736 - accuracy: 0.4227 - val_loss: 1.3786 - val_accuracy: 0.4265\n",
            "\n",
            "Epoch 00011: val_accuracy improved from 0.42100 to 0.42650, saving model to best_mlp_model.h5\n",
            "Epoch 12/20\n",
            "282/282 [==============================] - 1s 4ms/step - loss: 1.3779 - accuracy: 0.4242 - val_loss: 1.3735 - val_accuracy: 0.4355\n",
            "\n",
            "Epoch 00012: val_accuracy improved from 0.42650 to 0.43550, saving model to best_mlp_model.h5\n",
            "Epoch 13/20\n",
            "282/282 [==============================] - 1s 3ms/step - loss: 1.3643 - accuracy: 0.4328 - val_loss: 1.3670 - val_accuracy: 0.4375\n",
            "\n",
            "Epoch 00013: val_accuracy improved from 0.43550 to 0.43750, saving model to best_mlp_model.h5\n",
            "Epoch 14/20\n",
            "282/282 [==============================] - 1s 4ms/step - loss: 1.3398 - accuracy: 0.4405 - val_loss: 1.3640 - val_accuracy: 0.4380\n",
            "\n",
            "Epoch 00014: val_accuracy improved from 0.43750 to 0.43800, saving model to best_mlp_model.h5\n",
            "Epoch 15/20\n",
            "282/282 [==============================] - 1s 4ms/step - loss: 1.3373 - accuracy: 0.4451 - val_loss: 1.3585 - val_accuracy: 0.4425\n",
            "\n",
            "Epoch 00015: val_accuracy improved from 0.43800 to 0.44250, saving model to best_mlp_model.h5\n",
            "Epoch 16/20\n",
            "282/282 [==============================] - 1s 3ms/step - loss: 1.3159 - accuracy: 0.4612 - val_loss: 1.3553 - val_accuracy: 0.4465\n",
            "\n",
            "Epoch 00016: val_accuracy improved from 0.44250 to 0.44650, saving model to best_mlp_model.h5\n",
            "Epoch 17/20\n",
            "282/282 [==============================] - 1s 4ms/step - loss: 1.3077 - accuracy: 0.4615 - val_loss: 1.3513 - val_accuracy: 0.4500\n",
            "\n",
            "Epoch 00017: val_accuracy improved from 0.44650 to 0.45000, saving model to best_mlp_model.h5\n",
            "Epoch 18/20\n",
            "282/282 [==============================] - 1s 3ms/step - loss: 1.3122 - accuracy: 0.4627 - val_loss: 1.3498 - val_accuracy: 0.4530\n",
            "\n",
            "Epoch 00018: val_accuracy improved from 0.45000 to 0.45300, saving model to best_mlp_model.h5\n",
            "Epoch 19/20\n",
            "282/282 [==============================] - 1s 3ms/step - loss: 1.2871 - accuracy: 0.4749 - val_loss: 1.3445 - val_accuracy: 0.4550\n",
            "\n",
            "Epoch 00019: val_accuracy improved from 0.45300 to 0.45500, saving model to best_mlp_model.h5\n",
            "Epoch 20/20\n",
            "282/282 [==============================] - 1s 4ms/step - loss: 1.2940 - accuracy: 0.4699 - val_loss: 1.3417 - val_accuracy: 0.4560\n",
            "\n",
            "Epoch 00020: val_accuracy improved from 0.45500 to 0.45600, saving model to best_mlp_model.h5\n"
          ],
          "name": "stdout"
        }
      ]
    },
    {
      "cell_type": "markdown",
      "metadata": {
        "id": "qF0MmGV8Lm7y"
      },
      "source": [
        "##Neural Network Model Evaluation on pixel inputs"
      ]
    },
    {
      "cell_type": "markdown",
      "metadata": {
        "id": "ORXi0y71t3o8"
      },
      "source": [
        "###Evaluate best model"
      ]
    },
    {
      "cell_type": "code",
      "metadata": {
        "id": "DnjfotXoth4e",
        "colab": {
          "base_uri": "https://localhost:8080/"
        },
        "outputId": "5869e487-00c0-45fe-e997-1e81736c0bb2"
      },
      "source": [
        "mlp_performance = mlp_model.evaluate(X_test, y_test, batch_size=64)"
      ],
      "execution_count": null,
      "outputs": [
        {
          "output_type": "stream",
          "text": [
            "32/32 [==============================] - 0s 3ms/step - loss: 1.3362 - accuracy: 0.4635\n"
          ],
          "name": "stdout"
        }
      ]
    },
    {
      "cell_type": "markdown",
      "metadata": {
        "id": "3vgEP7OnGlR9"
      },
      "source": [
        "###Visualize accuracy and loss over training + display best model's performance"
      ]
    },
    {
      "cell_type": "code",
      "metadata": {
        "id": "ktHNwzn0G73y",
        "colab": {
          "base_uri": "https://localhost:8080/",
          "height": 310
        },
        "outputId": "a1953092-5303-46bc-9296-8836b978d07e"
      },
      "source": [
        "plot_graphs(mlp_history, mlp_performance); "
      ],
      "execution_count": null,
      "outputs": [
        {
          "output_type": "display_data",
          "data": {
            "image/png": "[encoded data removed]",
            "text/plain": [
              "<Figure size 720x288 with 2 Axes>"
            ]
          },
          "metadata": {
            "tags": [],
            "needs_background": "light"
          }
        }
      ]
    },
    {
      "cell_type": "markdown",
      "metadata": {
        "id": "oPeyL20OFzjN"
      },
      "source": [
        "###Plot the Confusion Matrix"
      ]
    },
    {
      "cell_type": "code",
      "metadata": {
        "id": "MgkxPwg2F7eL",
        "colab": {
          "base_uri": "https://localhost:8080/",
          "height": 312
        },
        "outputId": "1d9ae55c-57d1-47b3-a0b2-3491f83e587b"
      },
      "source": [
        "y_pred_mlp = mlp_model.predict_classes(X_test)\n",
        "y_true = np.argmax(y_test,axis=1)\n",
        "plot_confusion_matrix(y_true, y_pred_mlp)"
      ],
      "execution_count": null,
      "outputs": [
        {
          "output_type": "stream",
          "text": [
            "Plotting the Confusion Matrix\n"
          ],
          "name": "stdout"
        },
        {
          "output_type": "display_data",
          "data": {
            "image/png": "[encoded data removed]",
            "text/plain": [
              "<Figure size 432x288 with 2 Axes>"
            ]
          },
          "metadata": {
            "tags": [],
            "needs_background": "light"
          }
        }
      ]
    },
    {
      "cell_type": "markdown",
      "metadata": {
        "id": "XqLIJTjW0JE_"
      },
      "source": [
        "##Neural Network Model Evaluation on distance inputs\n",
        "\n",
        "We saw yesterday that building a model on the distances between facial landmarks did better than on raw pixel inputs, is this true for these models as well? "
      ]
    },
    {
      "cell_type": "code",
      "metadata": {
        "id": "k-aKmK6e0a4J"
      },
      "source": [
        "#Load the data (Distances between facial Landmarks)\n",
        "dataX_lm = np.load('./dataX.npy')\n",
        "#dataY_lm = np.load('./dataY.npy')\n",
        "\n",
        "# convert labels to one hot encoding\n",
        "#y_onehot = to_categorical(dataY_lm, len(set(dataY_lm)))\n",
        "\n",
        "# split Data into Train, Test (90-10)\n",
        "X_train_lm, X_test_lm, y_train_lm, y_test_lm = train_test_split(dataX_lm, y_onehot, test_size=0.1, random_state=42)\n",
        "\n",
        "#### Standardize the data ##########\n",
        "lm_scaler = StandardScaler()\n",
        "lm_scaler.fit(X_train_lm)\n",
        "X_train_lm = lm_scaler.transform(X_train_lm)\n",
        "X_test_lm = lm_scaler.transform(X_test_lm)"
      ],
      "execution_count": null,
      "outputs": []
    },
    {
      "cell_type": "code",
      "metadata": {
        "id": "OPub4NX31R3q"
      },
      "source": [
        "#YOUR CODE HERE\n",
        "#YOUR CODE HERE\n",
        "#YOUR CODE HERE\n",
        "#YOUR CODE HERE\n",
        "############### CALL YOUR MODEL 'lm_model' \n",
        "\n",
        "#YOUR CODE HERE\n",
        "\n",
        "lm_model = Sequential()\n",
        "lm_model.add(Dense(1024, input_shape=(X_train_lm.shape[1],), activation = 'relu', kernel_initializer='glorot_normal'))\n",
        "lm_model.add(Dense(512, activation = 'relu'))\n",
        "lm_model.add(Dense(256, activation = 'relu'))\n",
        "lm_model.add(Dropout(0.5))\n",
        "lm_model.add(Dense(5, activation = 'softmax'))\n",
        "\n",
        "\n",
        "\n",
        "#END CODE\n",
        "\n",
        "#YOUR CODE HERE\n",
        "#YOUR CODE HERE\n",
        "#YOUR CODE HERE\n",
        "#YOUR CODE HERE"
      ],
      "execution_count": null,
      "outputs": []
    },
    {
      "cell_type": "code",
      "metadata": {
        "id": "_QEUcTxh7Ara",
        "colab": {
          "base_uri": "https://localhost:8080/"
        },
        "outputId": "3865441f-bba4-4710-b9e2-9f4413b63994"
      },
      "source": [
        "# Compliling the model with SGD optimixer and categorical crossentropy loss\n",
        "lm_model.compile(loss=categorical_crossentropy, optimizer=SGD(lr=0.001), metrics=['accuracy'])\n",
        "\n",
        "#Saves the Best Model Based on Val Loss\n",
        "checkpoint = ModelCheckpoint('best_lm_model.h5', verbose=1, monitor='val_loss',save_best_only=True,  mode='auto')  \n",
        "#training the model\n",
        "#epochs = epochs\n",
        "lm_history = lm_model.fit(X_train_lm, y_train_lm, batch_size=batch_size, epochs=40, \n",
        "                          verbose=1, callbacks=[checkpoint], validation_data=(X_test_lm, y_test_lm), shuffle=True)"
      ],
      "execution_count": null,
      "outputs": [
        {
          "output_type": "stream",
          "text": [
            "Epoch 1/40\n",
            "282/282 [==============================] - 2s 5ms/step - loss: 1.6414 - accuracy: 0.2836 - val_loss: 1.3761 - val_accuracy: 0.4220\n",
            "\n",
            "Epoch 00001: val_loss improved from inf to 1.37607, saving model to best_lm_model.h5\n",
            "Epoch 2/40\n",
            "282/282 [==============================] - 1s 4ms/step - loss: 1.4207 - accuracy: 0.4034 - val_loss: 1.3189 - val_accuracy: 0.4495\n",
            "\n",
            "Epoch 00002: val_loss improved from 1.37607 to 1.31887, saving model to best_lm_model.h5\n",
            "Epoch 3/40\n",
            "282/282 [==============================] - 1s 4ms/step - loss: 1.3604 - accuracy: 0.4257 - val_loss: 1.2878 - val_accuracy: 0.4615\n",
            "\n",
            "Epoch 00003: val_loss improved from 1.31887 to 1.28784, saving model to best_lm_model.h5\n",
            "Epoch 4/40\n",
            "282/282 [==============================] - 1s 3ms/step - loss: 1.3215 - accuracy: 0.4498 - val_loss: 1.2738 - val_accuracy: 0.4690\n",
            "\n",
            "Epoch 00004: val_loss improved from 1.28784 to 1.27377, saving model to best_lm_model.h5\n",
            "Epoch 5/40\n",
            "282/282 [==============================] - 1s 4ms/step - loss: 1.2880 - accuracy: 0.4749 - val_loss: 1.2610 - val_accuracy: 0.4715\n",
            "\n",
            "Epoch 00005: val_loss improved from 1.27377 to 1.26102, saving model to best_lm_model.h5\n",
            "Epoch 6/40\n",
            "282/282 [==============================] - 1s 4ms/step - loss: 1.2749 - accuracy: 0.4711 - val_loss: 1.2521 - val_accuracy: 0.4740\n",
            "\n",
            "Epoch 00006: val_loss improved from 1.26102 to 1.25206, saving model to best_lm_model.h5\n",
            "Epoch 7/40\n",
            "282/282 [==============================] - 1s 4ms/step - loss: 1.2758 - accuracy: 0.4726 - val_loss: 1.2426 - val_accuracy: 0.4775\n",
            "\n",
            "Epoch 00007: val_loss improved from 1.25206 to 1.24262, saving model to best_lm_model.h5\n",
            "Epoch 8/40\n",
            "282/282 [==============================] - 1s 3ms/step - loss: 1.2440 - accuracy: 0.4856 - val_loss: 1.2347 - val_accuracy: 0.4830\n",
            "\n",
            "Epoch 00008: val_loss improved from 1.24262 to 1.23475, saving model to best_lm_model.h5\n",
            "Epoch 9/40\n",
            "282/282 [==============================] - 1s 4ms/step - loss: 1.2431 - accuracy: 0.4914 - val_loss: 1.2287 - val_accuracy: 0.4820\n",
            "\n",
            "Epoch 00009: val_loss improved from 1.23475 to 1.22869, saving model to best_lm_model.h5\n",
            "Epoch 10/40\n",
            "282/282 [==============================] - 1s 3ms/step - loss: 1.2331 - accuracy: 0.4992 - val_loss: 1.2223 - val_accuracy: 0.4900\n",
            "\n",
            "Epoch 00010: val_loss improved from 1.22869 to 1.22234, saving model to best_lm_model.h5\n",
            "Epoch 11/40\n",
            "282/282 [==============================] - 1s 3ms/step - loss: 1.2244 - accuracy: 0.5034 - val_loss: 1.2174 - val_accuracy: 0.4930\n",
            "\n",
            "Epoch 00011: val_loss improved from 1.22234 to 1.21743, saving model to best_lm_model.h5\n",
            "Epoch 12/40\n",
            "282/282 [==============================] - 1s 4ms/step - loss: 1.2207 - accuracy: 0.5083 - val_loss: 1.2150 - val_accuracy: 0.4940\n",
            "\n",
            "Epoch 00012: val_loss improved from 1.21743 to 1.21500, saving model to best_lm_model.h5\n",
            "Epoch 13/40\n",
            "282/282 [==============================] - 1s 3ms/step - loss: 1.1938 - accuracy: 0.5162 - val_loss: 1.2073 - val_accuracy: 0.4965\n",
            "\n",
            "Epoch 00013: val_loss improved from 1.21500 to 1.20734, saving model to best_lm_model.h5\n",
            "Epoch 14/40\n",
            "282/282 [==============================] - 1s 4ms/step - loss: 1.2027 - accuracy: 0.5090 - val_loss: 1.2024 - val_accuracy: 0.4975\n",
            "\n",
            "Epoch 00014: val_loss improved from 1.20734 to 1.20244, saving model to best_lm_model.h5\n",
            "Epoch 15/40\n",
            "282/282 [==============================] - 1s 3ms/step - loss: 1.2004 - accuracy: 0.5149 - val_loss: 1.2006 - val_accuracy: 0.5020\n",
            "\n",
            "Epoch 00015: val_loss improved from 1.20244 to 1.20062, saving model to best_lm_model.h5\n",
            "Epoch 16/40\n",
            "282/282 [==============================] - 1s 4ms/step - loss: 1.1914 - accuracy: 0.5170 - val_loss: 1.1971 - val_accuracy: 0.4970\n",
            "\n",
            "Epoch 00016: val_loss improved from 1.20062 to 1.19714, saving model to best_lm_model.h5\n",
            "Epoch 17/40\n",
            "282/282 [==============================] - 1s 4ms/step - loss: 1.1820 - accuracy: 0.5254 - val_loss: 1.1937 - val_accuracy: 0.5000\n",
            "\n",
            "Epoch 00017: val_loss improved from 1.19714 to 1.19373, saving model to best_lm_model.h5\n",
            "Epoch 18/40\n",
            "282/282 [==============================] - 1s 3ms/step - loss: 1.1864 - accuracy: 0.5234 - val_loss: 1.1903 - val_accuracy: 0.5005\n",
            "\n",
            "Epoch 00018: val_loss improved from 1.19373 to 1.19032, saving model to best_lm_model.h5\n",
            "Epoch 19/40\n",
            "282/282 [==============================] - 1s 3ms/step - loss: 1.1708 - accuracy: 0.5267 - val_loss: 1.1874 - val_accuracy: 0.5070\n",
            "\n",
            "Epoch 00019: val_loss improved from 1.19032 to 1.18738, saving model to best_lm_model.h5\n",
            "Epoch 20/40\n",
            "282/282 [==============================] - 1s 4ms/step - loss: 1.1749 - accuracy: 0.5327 - val_loss: 1.1849 - val_accuracy: 0.5090\n",
            "\n",
            "Epoch 00020: val_loss improved from 1.18738 to 1.18489, saving model to best_lm_model.h5\n",
            "Epoch 21/40\n",
            "282/282 [==============================] - 1s 4ms/step - loss: 1.1608 - accuracy: 0.5351 - val_loss: 1.1849 - val_accuracy: 0.5045\n",
            "\n",
            "Epoch 00021: val_loss improved from 1.18489 to 1.18486, saving model to best_lm_model.h5\n",
            "Epoch 22/40\n",
            "282/282 [==============================] - 1s 4ms/step - loss: 1.1662 - accuracy: 0.5365 - val_loss: 1.1781 - val_accuracy: 0.5105\n",
            "\n",
            "Epoch 00022: val_loss improved from 1.18486 to 1.17809, saving model to best_lm_model.h5\n",
            "Epoch 23/40\n",
            "282/282 [==============================] - 1s 4ms/step - loss: 1.1616 - accuracy: 0.5374 - val_loss: 1.1757 - val_accuracy: 0.5155\n",
            "\n",
            "Epoch 00023: val_loss improved from 1.17809 to 1.17567, saving model to best_lm_model.h5\n",
            "Epoch 24/40\n",
            "282/282 [==============================] - 1s 4ms/step - loss: 1.1449 - accuracy: 0.5413 - val_loss: 1.1754 - val_accuracy: 0.5200\n",
            "\n",
            "Epoch 00024: val_loss improved from 1.17567 to 1.17539, saving model to best_lm_model.h5\n",
            "Epoch 25/40\n",
            "282/282 [==============================] - 1s 4ms/step - loss: 1.1378 - accuracy: 0.5518 - val_loss: 1.1702 - val_accuracy: 0.5160\n",
            "\n",
            "Epoch 00025: val_loss improved from 1.17539 to 1.17024, saving model to best_lm_model.h5\n",
            "Epoch 26/40\n",
            "282/282 [==============================] - 1s 4ms/step - loss: 1.1488 - accuracy: 0.5378 - val_loss: 1.1697 - val_accuracy: 0.5250\n",
            "\n",
            "Epoch 00026: val_loss improved from 1.17024 to 1.16966, saving model to best_lm_model.h5\n",
            "Epoch 27/40\n",
            "282/282 [==============================] - 1s 4ms/step - loss: 1.1310 - accuracy: 0.5503 - val_loss: 1.1666 - val_accuracy: 0.5225\n",
            "\n",
            "Epoch 00027: val_loss improved from 1.16966 to 1.16655, saving model to best_lm_model.h5\n",
            "Epoch 28/40\n",
            "282/282 [==============================] - 1s 4ms/step - loss: 1.1301 - accuracy: 0.5510 - val_loss: 1.1651 - val_accuracy: 0.5260\n",
            "\n",
            "Epoch 00028: val_loss improved from 1.16655 to 1.16512, saving model to best_lm_model.h5\n",
            "Epoch 29/40\n",
            "282/282 [==============================] - 1s 4ms/step - loss: 1.1298 - accuracy: 0.5542 - val_loss: 1.1643 - val_accuracy: 0.5260\n",
            "\n",
            "Epoch 00029: val_loss improved from 1.16512 to 1.16426, saving model to best_lm_model.h5\n",
            "Epoch 30/40\n",
            "282/282 [==============================] - 1s 4ms/step - loss: 1.1241 - accuracy: 0.5541 - val_loss: 1.1635 - val_accuracy: 0.5240\n",
            "\n",
            "Epoch 00030: val_loss improved from 1.16426 to 1.16354, saving model to best_lm_model.h5\n",
            "Epoch 31/40\n",
            "282/282 [==============================] - 1s 4ms/step - loss: 1.1215 - accuracy: 0.5493 - val_loss: 1.1602 - val_accuracy: 0.5265\n",
            "\n",
            "Epoch 00031: val_loss improved from 1.16354 to 1.16025, saving model to best_lm_model.h5\n",
            "Epoch 32/40\n",
            "282/282 [==============================] - 1s 4ms/step - loss: 1.1244 - accuracy: 0.5526 - val_loss: 1.1590 - val_accuracy: 0.5250\n",
            "\n",
            "Epoch 00032: val_loss improved from 1.16025 to 1.15899, saving model to best_lm_model.h5\n",
            "Epoch 33/40\n",
            "282/282 [==============================] - 1s 3ms/step - loss: 1.1229 - accuracy: 0.5503 - val_loss: 1.1575 - val_accuracy: 0.5220\n",
            "\n",
            "Epoch 00033: val_loss improved from 1.15899 to 1.15747, saving model to best_lm_model.h5\n",
            "Epoch 34/40\n",
            "282/282 [==============================] - 1s 4ms/step - loss: 1.1199 - accuracy: 0.5512 - val_loss: 1.1555 - val_accuracy: 0.5285\n",
            "\n",
            "Epoch 00034: val_loss improved from 1.15747 to 1.15554, saving model to best_lm_model.h5\n",
            "Epoch 35/40\n",
            "282/282 [==============================] - 1s 3ms/step - loss: 1.1150 - accuracy: 0.5547 - val_loss: 1.1571 - val_accuracy: 0.5240\n",
            "\n",
            "Epoch 00035: val_loss did not improve from 1.15554\n",
            "Epoch 36/40\n",
            "282/282 [==============================] - 1s 3ms/step - loss: 1.1126 - accuracy: 0.5598 - val_loss: 1.1534 - val_accuracy: 0.5305\n",
            "\n",
            "Epoch 00036: val_loss improved from 1.15554 to 1.15337, saving model to best_lm_model.h5\n",
            "Epoch 37/40\n",
            "282/282 [==============================] - 1s 4ms/step - loss: 1.0973 - accuracy: 0.5649 - val_loss: 1.1530 - val_accuracy: 0.5280\n",
            "\n",
            "Epoch 00037: val_loss improved from 1.15337 to 1.15301, saving model to best_lm_model.h5\n",
            "Epoch 38/40\n",
            "282/282 [==============================] - 1s 4ms/step - loss: 1.1016 - accuracy: 0.5657 - val_loss: 1.1492 - val_accuracy: 0.5355\n",
            "\n",
            "Epoch 00038: val_loss improved from 1.15301 to 1.14924, saving model to best_lm_model.h5\n",
            "Epoch 39/40\n",
            "282/282 [==============================] - 1s 4ms/step - loss: 1.1045 - accuracy: 0.5652 - val_loss: 1.1486 - val_accuracy: 0.5335\n",
            "\n",
            "Epoch 00039: val_loss improved from 1.14924 to 1.14855, saving model to best_lm_model.h5\n",
            "Epoch 40/40\n",
            "282/282 [==============================] - 1s 3ms/step - loss: 1.0940 - accuracy: 0.5695 - val_loss: 1.1486 - val_accuracy: 0.5370\n",
            "\n",
            "Epoch 00040: val_loss did not improve from 1.14855\n"
          ],
          "name": "stdout"
        }
      ]
    },
    {
      "cell_type": "markdown",
      "metadata": {
        "id": "Xb2ruZoq1YPO"
      },
      "source": [
        "### Evaluate model"
      ]
    },
    {
      "cell_type": "code",
      "metadata": {
        "id": "IBOe-N6NgQag",
        "colab": {
          "base_uri": "https://localhost:8080/"
        },
        "outputId": "09f6a3dd-5a7a-4103-9a7f-27a81e68b972"
      },
      "source": [
        "# YOUR CODE HERE\n",
        "lm_performance = lm_model.evaluate(X_test_lm, y_test_lm, batch_size=64)"
      ],
      "execution_count": null,
      "outputs": [
        {
          "output_type": "stream",
          "text": [
            "32/32 [==============================] - 0s 2ms/step - loss: 1.1486 - accuracy: 0.5370\n"
          ],
          "name": "stdout"
        }
      ]
    },
    {
      "cell_type": "markdown",
      "metadata": {
        "id": "yj3XDT2eu31x"
      },
      "source": [
        "###Visualize accuracy and loss over training + display best model's performance"
      ]
    },
    {
      "cell_type": "code",
      "metadata": {
        "id": "kG1V_8AIs9Xf",
        "colab": {
          "base_uri": "https://localhost:8080/",
          "height": 605
        },
        "outputId": "4172ccad-36bf-47a9-c1a7-064350705fb5"
      },
      "source": [
        "# YOUR CODE HERE\n",
        "plot_graphs(lm_history, lm_performance)\n",
        "\n",
        "#confusion matrix\n",
        "y_pred_lm = lm_model.predict_classes(X_test_lm)\n",
        "y_true = np.argmax(y_test, axis = 1)\n",
        "plot_confusion_matrix(y_true, y_pred_lm)"
      ],
      "execution_count": null,
      "outputs": [
        {
          "output_type": "display_data",
          "data": {
            "image/png": "[encoded data removed]",
            "text/plain": [
              "<Figure size 720x288 with 2 Axes>"
            ]
          },
          "metadata": {
            "tags": [],
            "needs_background": "light"
          }
        },
        {
          "output_type": "stream",
          "text": [
            "Plotting the Confusion Matrix\n"
          ],
          "name": "stdout"
        },
        {
          "output_type": "display_data",
          "data": {
            "image/png": "[encoded data removed]",
            "text/plain": [
              "<Figure size 432x288 with 2 Axes>"
            ]
          },
          "metadata": {
            "tags": [],
            "needs_background": "light"
          }
        }
      ]
    },
    {
      "cell_type": "markdown",
      "metadata": {
        "id": "1Xk6GHxUgiY6"
      },
      "source": [
        "## Instructor-Led Discussion\n",
        "\n",
        "How can we explain the difference between these two models?"
      ]
    },
    {
      "cell_type": "markdown",
      "metadata": {
        "id": "lX9zvfvrAtrj"
      },
      "source": [
        "#Convolutional Neural Networks for Emotion Detection!"
      ]
    },
    {
      "cell_type": "markdown",
      "metadata": {
        "id": "jXuDr1x1CZYP"
      },
      "source": [
        "###Model Hyperparameters"
      ]
    },
    {
      "cell_type": "code",
      "metadata": {
        "id": "OvPqbBy8Cc1G"
      },
      "source": [
        "# we'll use the same epochs and batch size as above\n",
        "width, height = 48, 48"
      ],
      "execution_count": null,
      "outputs": []
    },
    {
      "cell_type": "markdown",
      "metadata": {
        "id": "wTH-IlrL0HVE"
      },
      "source": [
        "###Reshape the inputs"
      ]
    },
    {
      "cell_type": "code",
      "metadata": {
        "id": "DwTlyCBk6FOd",
        "colab": {
          "base_uri": "https://localhost:8080/"
        },
        "outputId": "5fd78945-2baa-45f1-d481-a1b7cf4f5d1a"
      },
      "source": [
        "# pixels were vectors\n",
        "print(X_train.shape) "
      ],
      "execution_count": null,
      "outputs": [
        {
          "output_type": "stream",
          "text": [
            "(18000, 2304)\n"
          ],
          "name": "stdout"
        }
      ]
    },
    {
      "cell_type": "code",
      "metadata": {
        "id": "NNSP1-vz6Lnk",
        "colab": {
          "base_uri": "https://localhost:8080/"
        },
        "outputId": "00feca79-1d67-4750-f4c8-68adbdad6275"
      },
      "source": [
        "X_train_cnn = X_train.reshape(len(X_train),height,width)\n",
        "X_test_cnn = X_test.reshape(len(X_test),height,width)\n",
        "\n",
        "# we've converted them to images\n",
        "print(X_train_cnn.shape) \n",
        "# now we add one more dimension for model compatability\n",
        "print(X_test_cnn.shape) \n"
      ],
      "execution_count": null,
      "outputs": [
        {
          "output_type": "stream",
          "text": [
            "(18000, 48, 48)\n",
            "(2000, 48, 48)\n"
          ],
          "name": "stdout"
        }
      ]
    },
    {
      "cell_type": "code",
      "metadata": {
        "id": "RFP5S57i69o7",
        "colab": {
          "base_uri": "https://localhost:8080/"
        },
        "outputId": "204b3946-500e-40f5-d9b4-d0c7b496081b"
      },
      "source": [
        "# now we add one more dimension for model compatability\n",
        "X_train_cnn = np.expand_dims(X_train_cnn,3)\n",
        "X_test_cnn = np.expand_dims(X_test_cnn,3)\n",
        "\n",
        "print(X_train_cnn.shape)"
      ],
      "execution_count": null,
      "outputs": [
        {
          "output_type": "stream",
          "text": [
            "(18000, 48, 48, 1)\n"
          ],
          "name": "stdout"
        }
      ]
    },
    {
      "cell_type": "code",
      "metadata": {
        "id": "fnI75Z1yDylH",
        "cellView": "both"
      },
      "source": [
        "# Change the hyperparameters in the model below \n",
        "\n",
        "# initialize model\n",
        "cnn_model = Sequential()\n",
        "# this conv layer has 64 filters! the input shape needs to be the same dimensions of the image\n",
        "cnn_model.add(Conv2D(64, kernel_size=(3, 3), activation='relu', input_shape=(width, height, 1)))\n",
        "# batch normalization \n",
        "cnn_model.add(BatchNormalization())\n",
        "# max pooling\n",
        "cnn_model.add(MaxPooling2D(pool_size=(2, 2), strides=(2, 2)))\n",
        "# dropout\n",
        "cnn_model.add(Dropout(0.5))\n",
        "\n",
        "# flatten all the outputs between convolutional and dense layers\n",
        "cnn_model.add(Flatten())\n",
        "# add a \"dense layer\" (i.e. the fully connected layers in MLPs) with dropout\n",
        "cnn_model.add(Dense(512, activation='relu'))\n",
        "# output layer\n",
        "cnn_model.add(Dense(n_labels, activation='softmax'))"
      ],
      "execution_count": null,
      "outputs": []
    },
    {
      "cell_type": "code",
      "metadata": {
        "id": "vtRf96cBdcom"
      },
      "source": [
        "#YOUR CODE HERE\n",
        "#YOUR CODE HERE\n",
        "#YOUR CODE HERE\n",
        "#YOUR CODE HERE\n",
        "############### CALL YOUR MODEL 'cnn_model' \n",
        "cnn_model = Sequential()\n",
        "cnn_model.add(Conv2D(64, kernel_size=(3,3), activation = 'relu', input_shape=(width, height, 1)))\n",
        "cnn_model.add(BatchNormalization())\n",
        "cnn_model.add(MaxPooling2D(pool_size=(2,2), strides = (2,2)))\n",
        "cnn_model.add(Dropout(0.5))\n",
        "\n",
        "cnn_model.add(Conv2D(128, kernel_size=(3,3), activation = 'relu', input_shape=(width, height, 1)))\n",
        "cnn_model.add(BatchNormalization())\n",
        "cnn_model.add(MaxPooling2D(pool_size=(2,2), strides = (2,2)))\n",
        "cnn_model.add(Dropout(0.5))\n",
        "\n",
        "cnn_model.add(Conv2D(256, kernel_size=(3,3), activation = 'relu', input_shape=(width, height, 1)))\n",
        "cnn_model.add(BatchNormalization())\n",
        "cnn_model.add(MaxPooling2D(pool_size=(2,2), strides = (2,2)))\n",
        "cnn_model.add(Dropout(0.5))\n",
        "\n",
        "cnn_model.add(Conv2D(512, kernel_size=(3,3), activation = 'relu', input_shape=(width, height, 1)))\n",
        "cnn_model.add(BatchNormalization())\n",
        "cnn_model.add(MaxPooling2D(pool_size=(2,2), strides = (2,2)))\n",
        "cnn_model.add(Dropout(0.5))\n",
        "\n",
        "\n",
        "cnn_model.add(Flatten())\n",
        "cnn_model.add(Dense(512, activation='relu'))\n",
        "cnn_model.add(Dense(n_labels, activation='softmax'))\n",
        "#YOUR CODE HERE\n",
        "#YOUR CODE HERE\n",
        "#YOUR CODE HERE\n",
        "#YOUR CODE HERE"
      ],
      "execution_count": null,
      "outputs": []
    },
    {
      "cell_type": "code",
      "metadata": {
        "id": "YqirnWL8wDGR",
        "colab": {
          "base_uri": "https://localhost:8080/"
        },
        "outputId": "750a0311-89cf-4c6c-cd5e-e2d8f5a4c5cf"
      },
      "source": [
        "#Saves the Best Model Based on Val Loss\n",
        "checkpoint = ModelCheckpoint('best_cnn_model.h5', verbose=1, monitor='val_loss',save_best_only=True, mode='auto')  \n",
        "\n",
        "# compliling the model with adam optimixer and categorical crossentropy loss\n",
        "cnn_model.compile(loss=categorical_crossentropy, optimizer=Adam(lr=0.001, beta_1=0.9, beta_2=0.999), metrics=['accuracy'])\n",
        "\n",
        "# training the model\n",
        "cnn_history = cnn_model.fit(X_train_cnn, y_train, batch_size=batch_size, epochs=epochs, verbose=1, \n",
        "                            callbacks=[checkpoint], validation_data=(X_test_cnn, y_test), shuffle=True)"
      ],
      "execution_count": null,
      "outputs": [
        {
          "output_type": "stream",
          "text": [
            "Epoch 1/20\n",
            "282/282 [==============================] - 38s 19ms/step - loss: 1.9646 - accuracy: 0.2700 - val_loss: 2.2763 - val_accuracy: 0.1940\n",
            "\n",
            "Epoch 00001: val_loss improved from inf to 2.27626, saving model to best_cnn_model.h5\n",
            "Epoch 2/20\n",
            "282/282 [==============================] - 5s 17ms/step - loss: 1.4154 - accuracy: 0.3929 - val_loss: 1.4269 - val_accuracy: 0.4520\n",
            "\n",
            "Epoch 00002: val_loss improved from 2.27626 to 1.42694, saving model to best_cnn_model.h5\n",
            "Epoch 3/20\n",
            "282/282 [==============================] - 5s 17ms/step - loss: 1.2872 - accuracy: 0.4593 - val_loss: 1.3115 - val_accuracy: 0.5190\n",
            "\n",
            "Epoch 00003: val_loss improved from 1.42694 to 1.31145, saving model to best_cnn_model.h5\n",
            "Epoch 4/20\n",
            "282/282 [==============================] - 5s 17ms/step - loss: 1.2051 - accuracy: 0.5045 - val_loss: 1.1211 - val_accuracy: 0.5535\n",
            "\n",
            "Epoch 00004: val_loss improved from 1.31145 to 1.12114, saving model to best_cnn_model.h5\n",
            "Epoch 5/20\n",
            "282/282 [==============================] - 5s 17ms/step - loss: 1.1507 - accuracy: 0.5378 - val_loss: 1.0530 - val_accuracy: 0.5755\n",
            "\n",
            "Epoch 00005: val_loss improved from 1.12114 to 1.05301, saving model to best_cnn_model.h5\n",
            "Epoch 6/20\n",
            "282/282 [==============================] - 5s 17ms/step - loss: 1.0915 - accuracy: 0.5594 - val_loss: 1.0257 - val_accuracy: 0.5935\n",
            "\n",
            "Epoch 00006: val_loss improved from 1.05301 to 1.02568, saving model to best_cnn_model.h5\n",
            "Epoch 7/20\n",
            "282/282 [==============================] - 5s 17ms/step - loss: 1.0435 - accuracy: 0.5825 - val_loss: 0.9720 - val_accuracy: 0.6105\n",
            "\n",
            "Epoch 00007: val_loss improved from 1.02568 to 0.97204, saving model to best_cnn_model.h5\n",
            "Epoch 8/20\n",
            "282/282 [==============================] - 5s 17ms/step - loss: 1.0154 - accuracy: 0.5975 - val_loss: 0.9940 - val_accuracy: 0.6070\n",
            "\n",
            "Epoch 00008: val_loss did not improve from 0.97204\n",
            "Epoch 9/20\n",
            "282/282 [==============================] - 5s 17ms/step - loss: 0.9857 - accuracy: 0.6130 - val_loss: 0.9383 - val_accuracy: 0.6285\n",
            "\n",
            "Epoch 00009: val_loss improved from 0.97204 to 0.93826, saving model to best_cnn_model.h5\n",
            "Epoch 10/20\n",
            "282/282 [==============================] - 5s 17ms/step - loss: 0.9537 - accuracy: 0.6194 - val_loss: 0.9323 - val_accuracy: 0.6320\n",
            "\n",
            "Epoch 00010: val_loss improved from 0.93826 to 0.93235, saving model to best_cnn_model.h5\n",
            "Epoch 11/20\n",
            "282/282 [==============================] - 5s 17ms/step - loss: 0.9380 - accuracy: 0.6301 - val_loss: 0.9166 - val_accuracy: 0.6445\n",
            "\n",
            "Epoch 00011: val_loss improved from 0.93235 to 0.91664, saving model to best_cnn_model.h5\n",
            "Epoch 12/20\n",
            "282/282 [==============================] - 5s 17ms/step - loss: 0.9285 - accuracy: 0.6329 - val_loss: 0.8932 - val_accuracy: 0.6570\n",
            "\n",
            "Epoch 00012: val_loss improved from 0.91664 to 0.89322, saving model to best_cnn_model.h5\n",
            "Epoch 13/20\n",
            "282/282 [==============================] - 5s 17ms/step - loss: 0.9000 - accuracy: 0.6462 - val_loss: 0.8765 - val_accuracy: 0.6620\n",
            "\n",
            "Epoch 00013: val_loss improved from 0.89322 to 0.87647, saving model to best_cnn_model.h5\n",
            "Epoch 14/20\n",
            "282/282 [==============================] - 5s 17ms/step - loss: 0.8788 - accuracy: 0.6573 - val_loss: 0.8647 - val_accuracy: 0.6660\n",
            "\n",
            "Epoch 00014: val_loss improved from 0.87647 to 0.86466, saving model to best_cnn_model.h5\n",
            "Epoch 15/20\n",
            "282/282 [==============================] - 5s 17ms/step - loss: 0.8668 - accuracy: 0.6605 - val_loss: 0.8951 - val_accuracy: 0.6620\n",
            "\n",
            "Epoch 00015: val_loss did not improve from 0.86466\n",
            "Epoch 16/20\n",
            "282/282 [==============================] - 5s 17ms/step - loss: 0.8561 - accuracy: 0.6674 - val_loss: 0.8872 - val_accuracy: 0.6695\n",
            "\n",
            "Epoch 00016: val_loss did not improve from 0.86466\n",
            "Epoch 17/20\n",
            "282/282 [==============================] - 5s 17ms/step - loss: 0.8588 - accuracy: 0.6616 - val_loss: 0.8872 - val_accuracy: 0.6580\n",
            "\n",
            "Epoch 00017: val_loss did not improve from 0.86466\n",
            "Epoch 18/20\n",
            "282/282 [==============================] - 5s 17ms/step - loss: 0.8161 - accuracy: 0.6748 - val_loss: 0.8708 - val_accuracy: 0.6635\n",
            "\n",
            "Epoch 00018: val_loss did not improve from 0.86466\n",
            "Epoch 19/20\n",
            "282/282 [==============================] - 5s 17ms/step - loss: 0.8090 - accuracy: 0.6860 - val_loss: 0.8809 - val_accuracy: 0.6625\n",
            "\n",
            "Epoch 00019: val_loss did not improve from 0.86466\n",
            "Epoch 20/20\n",
            "282/282 [==============================] - 5s 17ms/step - loss: 0.8232 - accuracy: 0.6773 - val_loss: 0.8760 - val_accuracy: 0.6700\n",
            "\n",
            "Epoch 00020: val_loss did not improve from 0.86466\n"
          ],
          "name": "stdout"
        }
      ]
    },
    {
      "cell_type": "markdown",
      "metadata": {
        "id": "wXprpaHpxVb-"
      },
      "source": [
        "###Evaluate the model"
      ]
    },
    {
      "cell_type": "code",
      "metadata": {
        "id": "JvCbnwZ_CBYv",
        "colab": {
          "base_uri": "https://localhost:8080/",
          "height": 642
        },
        "outputId": "e1d5f559-e74d-4433-cdc7-297098529838"
      },
      "source": [
        "# YOUR CODE HERE\n",
        "\n",
        "cnn_performance = cnn_model.evaluate(X_test_cnn, y_test, batch_size=64)\n",
        "plot_graphs(cnn_history, cnn_performance);\n",
        "\n",
        "y_pred_cnn = cnn_model.predict_classes(X_test_cnn)\n",
        "y_true = np.argmax(y_test, axis=1)\n",
        "plot_confusion_matrix(y_true, y_pred_cnn)"
      ],
      "execution_count": null,
      "outputs": [
        {
          "output_type": "stream",
          "text": [
            "32/32 [==============================] - 0s 7ms/step - loss: 0.8760 - accuracy: 0.6700\n"
          ],
          "name": "stdout"
        },
        {
          "output_type": "display_data",
          "data": {
            "image/png": "[encoded data removed]",
            "text/plain": [
              "<Figure size 720x288 with 2 Axes>"
            ]
          },
          "metadata": {
            "tags": [],
            "needs_background": "light"
          }
        },
        {
          "output_type": "stream",
          "text": [
            "Plotting the Confusion Matrix\n"
          ],
          "name": "stdout"
        },
        {
          "output_type": "display_data",
          "data": {
            "image/png": "[encoded data removed]",
            "text/plain": [
              "<Figure size 432x288 with 2 Axes>"
            ]
          },
          "metadata": {
            "tags": [],
            "needs_background": "light"
          }
        }
      ]
    },
    {
      "cell_type": "markdown",
      "metadata": {
        "id": "cDmHi_05BKnr"
      },
      "source": [
        "###Plot Accuracy and Loss"
      ]
    },
    {
      "cell_type": "code",
      "metadata": {
        "id": "YdRZz5w2ixwO"
      },
      "source": [
        "# YOUR CODE HERE \n",
        "\n"
      ],
      "execution_count": null,
      "outputs": []
    },
    {
      "cell_type": "markdown",
      "metadata": {
        "id": "hzLSZVH0jdG0"
      },
      "source": [
        "## Instructor-Led Discussion\n",
        "\n",
        "How does this model compare with the others? Did this perform as well as we wanted it to? What might be some of the reasons why?"
      ]
    },
    {
      "cell_type": "markdown",
      "metadata": {
        "id": "_eqKTSlRmEGF"
      },
      "source": [
        "#Transfer Learning"
      ]
    },
    {
      "cell_type": "code",
      "metadata": {
        "id": "OPpE58jJmIdY",
        "colab": {
          "base_uri": "https://localhost:8080/"
        },
        "outputId": "eb735ad4-a7b6-4810-8356-f059157fa70c"
      },
      "source": [
        "#@title Run this to build your transfer learning model { display-mode: \"form\" }\n",
        "\n",
        "import keras\n",
        "from keras.models import Sequential\n",
        "from keras.layers import Activation, MaxPooling2D, Dropout, Flatten, Reshape, Dense, Conv2D, GlobalAveragePooling2D\n",
        "from keras.wrappers.scikit_learn import KerasClassifier\n",
        "import keras.optimizers as optimizers\n",
        "from keras.applications.vgg16 import VGG16\n",
        "\n",
        "# load the vgg network that is an 'expert' at 'imagenet' but do not include the FC layers\n",
        "vgg_expert = VGG16(weights = 'imagenet', include_top = False, input_shape = (48, 48, 3))\n",
        "\n",
        "# we add the first 12 layers of vgg to our own model vgg_model\n",
        "vgg_model = Sequential()\n",
        "vgg_model.add(vgg_expert)\n",
        "\n",
        "# and then add our own layers on top of it\n",
        "vgg_model.add(GlobalAveragePooling2D())\n",
        "vgg_model.add(Dense(1024, activation = 'relu'))\n",
        "vgg_model.add(Dropout(0.3))\n",
        "vgg_model.add(Dense(512, activation = 'relu'))\n",
        "vgg_model.add(Dropout(0.3))\n",
        "vgg_model.add(Dense(5, activation = 'sigmoid'))\n",
        "\n",
        "# finally, we build the vgg model and turn it on so we can use it!\n",
        "vgg_model.compile(loss = 'categorical_crossentropy', \n",
        "          optimizer = optimizers.SGD(lr=1e-4, momentum=0.95), \n",
        "          metrics=['accuracy'])\n",
        "\n",
        "X_TRAIN = np.array([np.transpose(np.array([X_train_cnn[ix].squeeze() for i in range(3)]), (1,2,0)) for ix in range(len(X_train))])\n",
        "X_TEST = np.array([np.transpose(np.array([X_test_cnn[ix].squeeze() for i in range(3)]), (1,2,0)) for ix in range(len(X_test))])\n",
        "\n",
        "#training the model\n",
        "vgg_history = vgg_model.fit(X_TRAIN, y_train,\n",
        "          batch_size=batch_size,\n",
        "          epochs=epochs,\n",
        "          verbose=1,\n",
        "          callbacks=[checkpoint],\n",
        "          validation_data=(X_TEST, y_test),\n",
        "          shuffle=True)"
      ],
      "execution_count": null,
      "outputs": [
        {
          "output_type": "stream",
          "text": [
            "Downloading data from https://storage.googleapis.com/tensorflow/keras-applications/vgg16/vgg16_weights_tf_dim_ordering_tf_kernels_notop.h5\n",
            "58892288/58889256 [==============================] - 0s 0us/step\n",
            "58900480/58889256 [==============================] - 0s 0us/step\n",
            "Epoch 1/20\n",
            "282/282 [==============================] - 22s 67ms/step - loss: 1.5998 - accuracy: 0.2621 - val_loss: 1.3117 - val_accuracy: 0.4420\n",
            "\n",
            "Epoch 00001: val_loss did not improve from 0.86466\n",
            "Epoch 2/20\n",
            "282/282 [==============================] - 18s 63ms/step - loss: 1.3125 - accuracy: 0.4400 - val_loss: 1.1356 - val_accuracy: 0.5355\n",
            "\n",
            "Epoch 00002: val_loss did not improve from 0.86466\n",
            "Epoch 3/20\n",
            "282/282 [==============================] - 18s 63ms/step - loss: 1.1585 - accuracy: 0.5301 - val_loss: 1.0934 - val_accuracy: 0.5570\n",
            "\n",
            "Epoch 00003: val_loss did not improve from 0.86466\n",
            "Epoch 4/20\n",
            "282/282 [==============================] - 18s 62ms/step - loss: 1.0719 - accuracy: 0.5653 - val_loss: 0.9996 - val_accuracy: 0.5975\n",
            "\n",
            "Epoch 00004: val_loss did not improve from 0.86466\n",
            "Epoch 5/20\n",
            "282/282 [==============================] - 17s 62ms/step - loss: 1.0024 - accuracy: 0.5941 - val_loss: 0.9694 - val_accuracy: 0.6115\n",
            "\n",
            "Epoch 00005: val_loss did not improve from 0.86466\n",
            "Epoch 6/20\n",
            "282/282 [==============================] - 18s 62ms/step - loss: 0.9545 - accuracy: 0.6210 - val_loss: 0.9497 - val_accuracy: 0.6175\n",
            "\n",
            "Epoch 00006: val_loss did not improve from 0.86466\n",
            "Epoch 7/20\n",
            "282/282 [==============================] - 18s 63ms/step - loss: 0.9256 - accuracy: 0.6386 - val_loss: 0.9468 - val_accuracy: 0.6320\n",
            "\n",
            "Epoch 00007: val_loss did not improve from 0.86466\n",
            "Epoch 8/20\n",
            "282/282 [==============================] - 18s 63ms/step - loss: 0.8822 - accuracy: 0.6519 - val_loss: 0.8989 - val_accuracy: 0.6515\n",
            "\n",
            "Epoch 00008: val_loss did not improve from 0.86466\n",
            "Epoch 9/20\n",
            "282/282 [==============================] - 18s 63ms/step - loss: 0.8466 - accuracy: 0.6728 - val_loss: 0.8995 - val_accuracy: 0.6495\n",
            "\n",
            "Epoch 00009: val_loss did not improve from 0.86466\n",
            "Epoch 10/20\n",
            "282/282 [==============================] - 18s 63ms/step - loss: 0.7997 - accuracy: 0.6895 - val_loss: 0.9008 - val_accuracy: 0.6500\n",
            "\n",
            "Epoch 00010: val_loss did not improve from 0.86466\n",
            "Epoch 11/20\n",
            "282/282 [==============================] - 18s 63ms/step - loss: 0.7809 - accuracy: 0.7002 - val_loss: 0.8925 - val_accuracy: 0.6555\n",
            "\n",
            "Epoch 00011: val_loss did not improve from 0.86466\n",
            "Epoch 12/20\n",
            "282/282 [==============================] - 18s 63ms/step - loss: 0.7527 - accuracy: 0.7083 - val_loss: 0.8408 - val_accuracy: 0.6700\n",
            "\n",
            "Epoch 00012: val_loss improved from 0.86466 to 0.84077, saving model to best_cnn_model.h5\n",
            "Epoch 13/20\n",
            "282/282 [==============================] - 18s 62ms/step - loss: 0.7001 - accuracy: 0.7319 - val_loss: 0.8795 - val_accuracy: 0.6670\n",
            "\n",
            "Epoch 00013: val_loss did not improve from 0.84077\n",
            "Epoch 14/20\n",
            "282/282 [==============================] - 18s 63ms/step - loss: 0.6692 - accuracy: 0.7479 - val_loss: 0.9191 - val_accuracy: 0.6595\n",
            "\n",
            "Epoch 00014: val_loss did not improve from 0.84077\n",
            "Epoch 15/20\n",
            "282/282 [==============================] - 18s 63ms/step - loss: 0.6301 - accuracy: 0.7667 - val_loss: 0.8586 - val_accuracy: 0.6845\n",
            "\n",
            "Epoch 00015: val_loss did not improve from 0.84077\n",
            "Epoch 16/20\n",
            "282/282 [==============================] - 18s 63ms/step - loss: 0.6042 - accuracy: 0.7730 - val_loss: 0.8776 - val_accuracy: 0.6785\n",
            "\n",
            "Epoch 00016: val_loss did not improve from 0.84077\n",
            "Epoch 17/20\n",
            "282/282 [==============================] - 18s 63ms/step - loss: 0.5645 - accuracy: 0.7912 - val_loss: 0.8903 - val_accuracy: 0.6745\n",
            "\n",
            "Epoch 00017: val_loss did not improve from 0.84077\n",
            "Epoch 18/20\n",
            "282/282 [==============================] - 18s 63ms/step - loss: 0.5212 - accuracy: 0.8123 - val_loss: 0.8981 - val_accuracy: 0.6705\n",
            "\n",
            "Epoch 00018: val_loss did not improve from 0.84077\n",
            "Epoch 19/20\n",
            "282/282 [==============================] - 18s 63ms/step - loss: 0.4955 - accuracy: 0.8196 - val_loss: 0.9082 - val_accuracy: 0.6740\n",
            "\n",
            "Epoch 00019: val_loss did not improve from 0.84077\n",
            "Epoch 20/20\n",
            "282/282 [==============================] - 18s 63ms/step - loss: 0.4512 - accuracy: 0.8370 - val_loss: 0.9591 - val_accuracy: 0.6730\n",
            "\n",
            "Epoch 00020: val_loss did not improve from 0.84077\n"
          ],
          "name": "stdout"
        }
      ]
    },
    {
      "cell_type": "markdown",
      "metadata": {
        "id": "rwABV9sHAclF"
      },
      "source": [
        "###Evaluate model"
      ]
    },
    {
      "cell_type": "markdown",
      "metadata": {
        "id": "EjquMpMmAZEo"
      },
      "source": [
        "###Visualize accuracy and loss over training + display best model's performance"
      ]
    },
    {
      "cell_type": "code",
      "metadata": {
        "id": "OflGd8RFsrTX",
        "colab": {
          "base_uri": "https://localhost:8080/",
          "height": 642
        },
        "outputId": "acb64955-febd-41df-b392-bc88f5bc7ebe"
      },
      "source": [
        "# YOUR CODE HERE\n",
        "vgg_performance = vgg_model.evaluate(X_TEST, y_test, batch_size=64)\n",
        "plot_graphs(vgg_history, vgg_performance);\n",
        "\n",
        "y_pred_vgg = vgg_model.predict_classes(X_TEST)\n",
        "y_true = np.argmax(y_test, axis=1)\n",
        "plot_confusion_matrix(y_true, y_pred_vgg)"
      ],
      "execution_count": null,
      "outputs": [
        {
          "output_type": "stream",
          "text": [
            "32/32 [==============================] - 1s 20ms/step - loss: 0.9591 - accuracy: 0.6730\n"
          ],
          "name": "stdout"
        },
        {
          "output_type": "display_data",
          "data": {
            "image/png": "[encoded data removed]",
            "text/plain": [
              "<Figure size 720x288 with 2 Axes>"
            ]
          },
          "metadata": {
            "tags": [],
            "needs_background": "light"
          }
        },
        {
          "output_type": "stream",
          "text": [
            "Plotting the Confusion Matrix\n"
          ],
          "name": "stdout"
        },
        {
          "output_type": "display_data",
          "data": {
            "image/png": "[encoded data removed]",
            "text/plain": [
              "<Figure size 432x288 with 2 Axes>"
            ]
          },
          "metadata": {
            "tags": [],
            "needs_background": "light"
          }
        }
      ]
    },
    {
      "cell_type": "code",
      "metadata": {
        "id": "60FJChkPc7iY",
        "colab": {
          "base_uri": "https://localhost:8080/",
          "height": 280
        },
        "outputId": "b248d3c7-c7ee-446b-ada5-302cff79a027"
      },
      "source": [
        "compare_learning(mlp_history, lm_history, cnn_history, vgg_history)"
      ],
      "execution_count": null,
      "outputs": [
        {
          "output_type": "display_data",
          "data": {
            "image/png": "[encoded data removed]",
            "text/plain": [
              "<Figure size 432x288 with 1 Axes>"
            ]
          },
          "metadata": {
            "tags": [],
            "needs_background": "light"
          }
        }
      ]
    },
    {
      "cell_type": "markdown",
      "metadata": {
        "id": "-kmm2fWDBtfW"
      },
      "source": [
        "###How can we explain this pattern of performance across all these models?"
      ]
    },
    {
      "cell_type": "markdown",
      "metadata": {
        "id": "SRW9UiFbBoAK"
      },
      "source": [
        "# Finished :D"
      ]
    }
  ]
}